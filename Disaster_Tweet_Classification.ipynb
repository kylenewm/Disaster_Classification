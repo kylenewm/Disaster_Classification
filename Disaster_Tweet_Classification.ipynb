{
  "nbformat": 4,
  "nbformat_minor": 0,
  "metadata": {
    "colab": {
      "provenance": []
    },
    "kernelspec": {
      "name": "python3",
      "display_name": "Python 3"
    },
    "language_info": {
      "name": "python"
    },
    "accelerator": "GPU",
    "gpuClass": "standard"
  },
  "cells": [
    {
      "cell_type": "markdown",
      "source": [
        "## Introduction\n",
        "**Goal**: To classify whether tweets are from a real disaster or not. I will be using spacy and regex for the data preprocesing and then build an RNN using tensorflow keras.\n",
        "\n",
        "**Data**: There are 3 files. Train.csv, test.csv, and sample_submission.csv. \n",
        "There are 7613 rows in the training data with 5 columns. These are\n",
        "\n",
        "id - a unique identifier for each tweet\n",
        "\n",
        "text - the text of the tweet\n",
        "\n",
        "location - the location the tweet was sent from\n",
        "\n",
        "keyword - a particular keyword from the tweet\n",
        "\n",
        "target - contains values for whether disaster was real (1) or not (0)\n",
        "\n",
        "The test data has 3263 rows without the target column. "
      ],
      "metadata": {
        "id": "TGltdBxTV2Bi"
      }
    },
    {
      "cell_type": "code",
      "source": [
        "from google.colab import drive\n",
        "drive.mount('/content/drive')"
      ],
      "metadata": {
        "colab": {
          "base_uri": "https://localhost:8080/"
        },
        "id": "rXI22Wei1DOS",
        "outputId": "c9bfb4ad-af00-4093-da20-93c33bdba141"
      },
      "execution_count": 1,
      "outputs": [
        {
          "output_type": "stream",
          "name": "stdout",
          "text": [
            "Mounted at /content/drive\n"
          ]
        }
      ]
    },
    {
      "cell_type": "code",
      "execution_count": 2,
      "metadata": {
        "id": "hzDHFx150UpI",
        "colab": {
          "base_uri": "https://localhost:8080/",
          "height": 93
        },
        "outputId": "ce784dff-6748-4fa9-8b61-af2bebb17efc"
      },
      "outputs": [
        {
          "output_type": "display_data",
          "data": {
            "text/plain": [
              "<IPython.core.display.HTML object>"
            ],
            "text/html": [
              "\n",
              "     <input type=\"file\" id=\"files-9b8f9eba-7a0f-4128-b594-22c5e09b69de\" name=\"files[]\" multiple disabled\n",
              "        style=\"border:none\" />\n",
              "     <output id=\"result-9b8f9eba-7a0f-4128-b594-22c5e09b69de\">\n",
              "      Upload widget is only available when the cell has been executed in the\n",
              "      current browser session. Please rerun this cell to enable.\n",
              "      </output>\n",
              "      <script>// Copyright 2017 Google LLC\n",
              "//\n",
              "// Licensed under the Apache License, Version 2.0 (the \"License\");\n",
              "// you may not use this file except in compliance with the License.\n",
              "// You may obtain a copy of the License at\n",
              "//\n",
              "//      http://www.apache.org/licenses/LICENSE-2.0\n",
              "//\n",
              "// Unless required by applicable law or agreed to in writing, software\n",
              "// distributed under the License is distributed on an \"AS IS\" BASIS,\n",
              "// WITHOUT WARRANTIES OR CONDITIONS OF ANY KIND, either express or implied.\n",
              "// See the License for the specific language governing permissions and\n",
              "// limitations under the License.\n",
              "\n",
              "/**\n",
              " * @fileoverview Helpers for google.colab Python module.\n",
              " */\n",
              "(function(scope) {\n",
              "function span(text, styleAttributes = {}) {\n",
              "  const element = document.createElement('span');\n",
              "  element.textContent = text;\n",
              "  for (const key of Object.keys(styleAttributes)) {\n",
              "    element.style[key] = styleAttributes[key];\n",
              "  }\n",
              "  return element;\n",
              "}\n",
              "\n",
              "// Max number of bytes which will be uploaded at a time.\n",
              "const MAX_PAYLOAD_SIZE = 100 * 1024;\n",
              "\n",
              "function _uploadFiles(inputId, outputId) {\n",
              "  const steps = uploadFilesStep(inputId, outputId);\n",
              "  const outputElement = document.getElementById(outputId);\n",
              "  // Cache steps on the outputElement to make it available for the next call\n",
              "  // to uploadFilesContinue from Python.\n",
              "  outputElement.steps = steps;\n",
              "\n",
              "  return _uploadFilesContinue(outputId);\n",
              "}\n",
              "\n",
              "// This is roughly an async generator (not supported in the browser yet),\n",
              "// where there are multiple asynchronous steps and the Python side is going\n",
              "// to poll for completion of each step.\n",
              "// This uses a Promise to block the python side on completion of each step,\n",
              "// then passes the result of the previous step as the input to the next step.\n",
              "function _uploadFilesContinue(outputId) {\n",
              "  const outputElement = document.getElementById(outputId);\n",
              "  const steps = outputElement.steps;\n",
              "\n",
              "  const next = steps.next(outputElement.lastPromiseValue);\n",
              "  return Promise.resolve(next.value.promise).then((value) => {\n",
              "    // Cache the last promise value to make it available to the next\n",
              "    // step of the generator.\n",
              "    outputElement.lastPromiseValue = value;\n",
              "    return next.value.response;\n",
              "  });\n",
              "}\n",
              "\n",
              "/**\n",
              " * Generator function which is called between each async step of the upload\n",
              " * process.\n",
              " * @param {string} inputId Element ID of the input file picker element.\n",
              " * @param {string} outputId Element ID of the output display.\n",
              " * @return {!Iterable<!Object>} Iterable of next steps.\n",
              " */\n",
              "function* uploadFilesStep(inputId, outputId) {\n",
              "  const inputElement = document.getElementById(inputId);\n",
              "  inputElement.disabled = false;\n",
              "\n",
              "  const outputElement = document.getElementById(outputId);\n",
              "  outputElement.innerHTML = '';\n",
              "\n",
              "  const pickedPromise = new Promise((resolve) => {\n",
              "    inputElement.addEventListener('change', (e) => {\n",
              "      resolve(e.target.files);\n",
              "    });\n",
              "  });\n",
              "\n",
              "  const cancel = document.createElement('button');\n",
              "  inputElement.parentElement.appendChild(cancel);\n",
              "  cancel.textContent = 'Cancel upload';\n",
              "  const cancelPromise = new Promise((resolve) => {\n",
              "    cancel.onclick = () => {\n",
              "      resolve(null);\n",
              "    };\n",
              "  });\n",
              "\n",
              "  // Wait for the user to pick the files.\n",
              "  const files = yield {\n",
              "    promise: Promise.race([pickedPromise, cancelPromise]),\n",
              "    response: {\n",
              "      action: 'starting',\n",
              "    }\n",
              "  };\n",
              "\n",
              "  cancel.remove();\n",
              "\n",
              "  // Disable the input element since further picks are not allowed.\n",
              "  inputElement.disabled = true;\n",
              "\n",
              "  if (!files) {\n",
              "    return {\n",
              "      response: {\n",
              "        action: 'complete',\n",
              "      }\n",
              "    };\n",
              "  }\n",
              "\n",
              "  for (const file of files) {\n",
              "    const li = document.createElement('li');\n",
              "    li.append(span(file.name, {fontWeight: 'bold'}));\n",
              "    li.append(span(\n",
              "        `(${file.type || 'n/a'}) - ${file.size} bytes, ` +\n",
              "        `last modified: ${\n",
              "            file.lastModifiedDate ? file.lastModifiedDate.toLocaleDateString() :\n",
              "                                    'n/a'} - `));\n",
              "    const percent = span('0% done');\n",
              "    li.appendChild(percent);\n",
              "\n",
              "    outputElement.appendChild(li);\n",
              "\n",
              "    const fileDataPromise = new Promise((resolve) => {\n",
              "      const reader = new FileReader();\n",
              "      reader.onload = (e) => {\n",
              "        resolve(e.target.result);\n",
              "      };\n",
              "      reader.readAsArrayBuffer(file);\n",
              "    });\n",
              "    // Wait for the data to be ready.\n",
              "    let fileData = yield {\n",
              "      promise: fileDataPromise,\n",
              "      response: {\n",
              "        action: 'continue',\n",
              "      }\n",
              "    };\n",
              "\n",
              "    // Use a chunked sending to avoid message size limits. See b/62115660.\n",
              "    let position = 0;\n",
              "    do {\n",
              "      const length = Math.min(fileData.byteLength - position, MAX_PAYLOAD_SIZE);\n",
              "      const chunk = new Uint8Array(fileData, position, length);\n",
              "      position += length;\n",
              "\n",
              "      const base64 = btoa(String.fromCharCode.apply(null, chunk));\n",
              "      yield {\n",
              "        response: {\n",
              "          action: 'append',\n",
              "          file: file.name,\n",
              "          data: base64,\n",
              "        },\n",
              "      };\n",
              "\n",
              "      let percentDone = fileData.byteLength === 0 ?\n",
              "          100 :\n",
              "          Math.round((position / fileData.byteLength) * 100);\n",
              "      percent.textContent = `${percentDone}% done`;\n",
              "\n",
              "    } while (position < fileData.byteLength);\n",
              "  }\n",
              "\n",
              "  // All done.\n",
              "  yield {\n",
              "    response: {\n",
              "      action: 'complete',\n",
              "    }\n",
              "  };\n",
              "}\n",
              "\n",
              "scope.google = scope.google || {};\n",
              "scope.google.colab = scope.google.colab || {};\n",
              "scope.google.colab._files = {\n",
              "  _uploadFiles,\n",
              "  _uploadFilesContinue,\n",
              "};\n",
              "})(self);\n",
              "</script> "
            ]
          },
          "metadata": {}
        },
        {
          "output_type": "stream",
          "name": "stdout",
          "text": [
            "Saving kaggle.json to kaggle.json\n",
            "kaggle.json\n"
          ]
        }
      ],
      "source": [
        "from google.colab import files\n",
        "files.upload() #upload kaggle.json\n",
        "\n",
        "#linux commands to create.kaggle folder current working directory and move kaggle.json file into folder\n",
        "!pip install -q kaggle \n",
        "!mkdir -p ~/.kaggle\n",
        "!cp kaggle.json ~/.kaggle/\n",
        "!ls ~/.kaggle"
      ]
    },
    {
      "cell_type": "code",
      "source": [
        "!kaggle competitions download -c nlp-getting-started"
      ],
      "metadata": {
        "id": "qg6qLDjW0dvp",
        "colab": {
          "base_uri": "https://localhost:8080/"
        },
        "outputId": "a4a28f3d-0e1c-4755-b861-1362d2a19cbe"
      },
      "execution_count": 3,
      "outputs": [
        {
          "output_type": "stream",
          "name": "stdout",
          "text": [
            "Warning: Your Kaggle API key is readable by other users on this system! To fix this, you can run 'chmod 600 /root/.kaggle/kaggle.json'\n",
            "Downloading nlp-getting-started.zip to /content\n",
            "100% 593k/593k [00:00<00:00, 721kB/s]\n",
            "100% 593k/593k [00:00<00:00, 721kB/s]\n"
          ]
        }
      ]
    },
    {
      "cell_type": "code",
      "source": [
        "!unzip nlp-getting-started.zip"
      ],
      "metadata": {
        "id": "lF7x_XYZ0dHb",
        "colab": {
          "base_uri": "https://localhost:8080/"
        },
        "outputId": "16cd5f1f-ac2f-4758-9baf-11d5f65d8a9c"
      },
      "execution_count": 4,
      "outputs": [
        {
          "output_type": "stream",
          "name": "stdout",
          "text": [
            "Archive:  nlp-getting-started.zip\n",
            "  inflating: sample_submission.csv   \n",
            "  inflating: test.csv                \n",
            "  inflating: train.csv               \n"
          ]
        }
      ]
    },
    {
      "cell_type": "code",
      "source": [
        "!pip install -q -U keras-tuner"
      ],
      "metadata": {
        "colab": {
          "base_uri": "https://localhost:8080/"
        },
        "id": "fMQCKLTt0H9d",
        "outputId": "bf3edbb3-9b58-4c04-8f16-f14a7f5ff157"
      },
      "execution_count": 5,
      "outputs": [
        {
          "output_type": "stream",
          "name": "stdout",
          "text": [
            "\u001b[K     |████████████████████████████████| 135 kB 37.3 MB/s \n",
            "\u001b[K     |████████████████████████████████| 1.6 MB 56.3 MB/s \n",
            "\u001b[?25h"
          ]
        }
      ]
    },
    {
      "cell_type": "code",
      "source": [
        "# !pip install -q -U keras-tuner\n",
        "import numpy as np \n",
        "import spacy\n",
        "import pandas as pd \n",
        "import os\n",
        "import random\n",
        "from sklearn.utils import shuffle\n",
        "import shutil\n",
        "import matplotlib.pyplot as plt\n",
        "import seaborn as sns\n",
        "from skimage import io\n",
        "from sklearn.model_selection import train_test_split\n",
        "import tensorflow as tf\n",
        "from tensorflow import keras\n",
        "from keras.preprocessing.text import Tokenizer\n",
        "from keras.utils import pad_sequences\n",
        "from tqdm import tqdm\n",
        "from keras.models import Sequential\n",
        "from keras.layers import Embedding,LSTM,Dense,SpatialDropout1D, Dropout, GRU, Input\n",
        "from keras.initializers import Constant\n",
        "from sklearn.model_selection import train_test_split\n",
        "from keras.optimizers import Adam\n",
        "import keras_tuner as kt\n",
        "import regex as re\n",
        "from collections import Counter\n",
        "from sklearn.metrics import (\n",
        "    precision_score, \n",
        "    recall_score, \n",
        "    f1_score, \n",
        "    classification_report,\n",
        "    accuracy_score\n",
        ")\n",
        "# !pip install bertopic[spacy] #for topic modeling with BERT\n",
        "# !pip install -U spacy #required for data preporcessing \n",
        "# !pip install -U spacy[cuda113] #required if running on GPU  \n",
        "# !pip install -U sentence-transformers #for transforming documents\n",
        "# !pip install NLTK #for nlp preprocessing\n",
        "\n",
        "nlp = spacy.load(\"en_core_web_sm\")\n",
        "from spacy.lang.en import English"
      ],
      "metadata": {
        "id": "4G8WlemG0h51"
      },
      "execution_count": 6,
      "outputs": []
    },
    {
      "cell_type": "code",
      "source": [
        "train = pd.read_csv(\"train.csv\")\n",
        "test = pd.read_csv(\"test.csv\")\n",
        "submission = pd.read_csv(\"sample_submission.csv\")"
      ],
      "metadata": {
        "id": "qPWPu1wQ1qZa"
      },
      "execution_count": 61,
      "outputs": []
    },
    {
      "cell_type": "code",
      "source": [
        "submission.head()"
      ],
      "metadata": {
        "colab": {
          "base_uri": "https://localhost:8080/",
          "height": 206
        },
        "id": "s7f7Xfmhz96Q",
        "outputId": "426ad120-89c0-4963-a769-057499396a75"
      },
      "execution_count": 39,
      "outputs": [
        {
          "output_type": "execute_result",
          "data": {
            "text/plain": [
              "   id  target\n",
              "0   0       0\n",
              "1   2       0\n",
              "2   3       0\n",
              "3   9       0\n",
              "4  11       0"
            ],
            "text/html": [
              "\n",
              "  <div id=\"df-5236b383-7432-4148-95c6-439a4bf2e5d7\">\n",
              "    <div class=\"colab-df-container\">\n",
              "      <div>\n",
              "<style scoped>\n",
              "    .dataframe tbody tr th:only-of-type {\n",
              "        vertical-align: middle;\n",
              "    }\n",
              "\n",
              "    .dataframe tbody tr th {\n",
              "        vertical-align: top;\n",
              "    }\n",
              "\n",
              "    .dataframe thead th {\n",
              "        text-align: right;\n",
              "    }\n",
              "</style>\n",
              "<table border=\"1\" class=\"dataframe\">\n",
              "  <thead>\n",
              "    <tr style=\"text-align: right;\">\n",
              "      <th></th>\n",
              "      <th>id</th>\n",
              "      <th>target</th>\n",
              "    </tr>\n",
              "  </thead>\n",
              "  <tbody>\n",
              "    <tr>\n",
              "      <th>0</th>\n",
              "      <td>0</td>\n",
              "      <td>0</td>\n",
              "    </tr>\n",
              "    <tr>\n",
              "      <th>1</th>\n",
              "      <td>2</td>\n",
              "      <td>0</td>\n",
              "    </tr>\n",
              "    <tr>\n",
              "      <th>2</th>\n",
              "      <td>3</td>\n",
              "      <td>0</td>\n",
              "    </tr>\n",
              "    <tr>\n",
              "      <th>3</th>\n",
              "      <td>9</td>\n",
              "      <td>0</td>\n",
              "    </tr>\n",
              "    <tr>\n",
              "      <th>4</th>\n",
              "      <td>11</td>\n",
              "      <td>0</td>\n",
              "    </tr>\n",
              "  </tbody>\n",
              "</table>\n",
              "</div>\n",
              "      <button class=\"colab-df-convert\" onclick=\"convertToInteractive('df-5236b383-7432-4148-95c6-439a4bf2e5d7')\"\n",
              "              title=\"Convert this dataframe to an interactive table.\"\n",
              "              style=\"display:none;\">\n",
              "        \n",
              "  <svg xmlns=\"http://www.w3.org/2000/svg\" height=\"24px\"viewBox=\"0 0 24 24\"\n",
              "       width=\"24px\">\n",
              "    <path d=\"M0 0h24v24H0V0z\" fill=\"none\"/>\n",
              "    <path d=\"M18.56 5.44l.94 2.06.94-2.06 2.06-.94-2.06-.94-.94-2.06-.94 2.06-2.06.94zm-11 1L8.5 8.5l.94-2.06 2.06-.94-2.06-.94L8.5 2.5l-.94 2.06-2.06.94zm10 10l.94 2.06.94-2.06 2.06-.94-2.06-.94-.94-2.06-.94 2.06-2.06.94z\"/><path d=\"M17.41 7.96l-1.37-1.37c-.4-.4-.92-.59-1.43-.59-.52 0-1.04.2-1.43.59L10.3 9.45l-7.72 7.72c-.78.78-.78 2.05 0 2.83L4 21.41c.39.39.9.59 1.41.59.51 0 1.02-.2 1.41-.59l7.78-7.78 2.81-2.81c.8-.78.8-2.07 0-2.86zM5.41 20L4 18.59l7.72-7.72 1.47 1.35L5.41 20z\"/>\n",
              "  </svg>\n",
              "      </button>\n",
              "      \n",
              "  <style>\n",
              "    .colab-df-container {\n",
              "      display:flex;\n",
              "      flex-wrap:wrap;\n",
              "      gap: 12px;\n",
              "    }\n",
              "\n",
              "    .colab-df-convert {\n",
              "      background-color: #E8F0FE;\n",
              "      border: none;\n",
              "      border-radius: 50%;\n",
              "      cursor: pointer;\n",
              "      display: none;\n",
              "      fill: #1967D2;\n",
              "      height: 32px;\n",
              "      padding: 0 0 0 0;\n",
              "      width: 32px;\n",
              "    }\n",
              "\n",
              "    .colab-df-convert:hover {\n",
              "      background-color: #E2EBFA;\n",
              "      box-shadow: 0px 1px 2px rgba(60, 64, 67, 0.3), 0px 1px 3px 1px rgba(60, 64, 67, 0.15);\n",
              "      fill: #174EA6;\n",
              "    }\n",
              "\n",
              "    [theme=dark] .colab-df-convert {\n",
              "      background-color: #3B4455;\n",
              "      fill: #D2E3FC;\n",
              "    }\n",
              "\n",
              "    [theme=dark] .colab-df-convert:hover {\n",
              "      background-color: #434B5C;\n",
              "      box-shadow: 0px 1px 3px 1px rgba(0, 0, 0, 0.15);\n",
              "      filter: drop-shadow(0px 1px 2px rgba(0, 0, 0, 0.3));\n",
              "      fill: #FFFFFF;\n",
              "    }\n",
              "  </style>\n",
              "\n",
              "      <script>\n",
              "        const buttonEl =\n",
              "          document.querySelector('#df-5236b383-7432-4148-95c6-439a4bf2e5d7 button.colab-df-convert');\n",
              "        buttonEl.style.display =\n",
              "          google.colab.kernel.accessAllowed ? 'block' : 'none';\n",
              "\n",
              "        async function convertToInteractive(key) {\n",
              "          const element = document.querySelector('#df-5236b383-7432-4148-95c6-439a4bf2e5d7');\n",
              "          const dataTable =\n",
              "            await google.colab.kernel.invokeFunction('convertToInteractive',\n",
              "                                                     [key], {});\n",
              "          if (!dataTable) return;\n",
              "\n",
              "          const docLinkHtml = 'Like what you see? Visit the ' +\n",
              "            '<a target=\"_blank\" href=https://colab.research.google.com/notebooks/data_table.ipynb>data table notebook</a>'\n",
              "            + ' to learn more about interactive tables.';\n",
              "          element.innerHTML = '';\n",
              "          dataTable['output_type'] = 'display_data';\n",
              "          await google.colab.output.renderOutput(dataTable, element);\n",
              "          const docLink = document.createElement('div');\n",
              "          docLink.innerHTML = docLinkHtml;\n",
              "          element.appendChild(docLink);\n",
              "        }\n",
              "      </script>\n",
              "    </div>\n",
              "  </div>\n",
              "  "
            ]
          },
          "metadata": {},
          "execution_count": 39
        }
      ]
    },
    {
      "cell_type": "markdown",
      "source": [
        "### Data Preprocessing and EDA"
      ],
      "metadata": {
        "id": "5CEPKvYM9H09"
      }
    },
    {
      "cell_type": "code",
      "source": [
        "train.head()"
      ],
      "metadata": {
        "id": "O5frbwHZWQZg",
        "colab": {
          "base_uri": "https://localhost:8080/",
          "height": 206
        },
        "outputId": "259300cc-9778-4182-d6b0-164f3c0677b4"
      },
      "execution_count": 40,
      "outputs": [
        {
          "output_type": "execute_result",
          "data": {
            "text/plain": [
              "   id keyword location                                               text  \\\n",
              "0   1     NaN      NaN  Our Deeds are the Reason of this #earthquake M...   \n",
              "1   4     NaN      NaN             Forest fire near La Ronge Sask. Canada   \n",
              "2   5     NaN      NaN  All residents asked to 'shelter in place' are ...   \n",
              "3   6     NaN      NaN  13,000 people receive #wildfires evacuation or...   \n",
              "4   7     NaN      NaN  Just got sent this photo from Ruby #Alaska as ...   \n",
              "\n",
              "   target  \n",
              "0       1  \n",
              "1       1  \n",
              "2       1  \n",
              "3       1  \n",
              "4       1  "
            ],
            "text/html": [
              "\n",
              "  <div id=\"df-7b4af375-4ed0-4985-a559-a5b23c059f84\">\n",
              "    <div class=\"colab-df-container\">\n",
              "      <div>\n",
              "<style scoped>\n",
              "    .dataframe tbody tr th:only-of-type {\n",
              "        vertical-align: middle;\n",
              "    }\n",
              "\n",
              "    .dataframe tbody tr th {\n",
              "        vertical-align: top;\n",
              "    }\n",
              "\n",
              "    .dataframe thead th {\n",
              "        text-align: right;\n",
              "    }\n",
              "</style>\n",
              "<table border=\"1\" class=\"dataframe\">\n",
              "  <thead>\n",
              "    <tr style=\"text-align: right;\">\n",
              "      <th></th>\n",
              "      <th>id</th>\n",
              "      <th>keyword</th>\n",
              "      <th>location</th>\n",
              "      <th>text</th>\n",
              "      <th>target</th>\n",
              "    </tr>\n",
              "  </thead>\n",
              "  <tbody>\n",
              "    <tr>\n",
              "      <th>0</th>\n",
              "      <td>1</td>\n",
              "      <td>NaN</td>\n",
              "      <td>NaN</td>\n",
              "      <td>Our Deeds are the Reason of this #earthquake M...</td>\n",
              "      <td>1</td>\n",
              "    </tr>\n",
              "    <tr>\n",
              "      <th>1</th>\n",
              "      <td>4</td>\n",
              "      <td>NaN</td>\n",
              "      <td>NaN</td>\n",
              "      <td>Forest fire near La Ronge Sask. Canada</td>\n",
              "      <td>1</td>\n",
              "    </tr>\n",
              "    <tr>\n",
              "      <th>2</th>\n",
              "      <td>5</td>\n",
              "      <td>NaN</td>\n",
              "      <td>NaN</td>\n",
              "      <td>All residents asked to 'shelter in place' are ...</td>\n",
              "      <td>1</td>\n",
              "    </tr>\n",
              "    <tr>\n",
              "      <th>3</th>\n",
              "      <td>6</td>\n",
              "      <td>NaN</td>\n",
              "      <td>NaN</td>\n",
              "      <td>13,000 people receive #wildfires evacuation or...</td>\n",
              "      <td>1</td>\n",
              "    </tr>\n",
              "    <tr>\n",
              "      <th>4</th>\n",
              "      <td>7</td>\n",
              "      <td>NaN</td>\n",
              "      <td>NaN</td>\n",
              "      <td>Just got sent this photo from Ruby #Alaska as ...</td>\n",
              "      <td>1</td>\n",
              "    </tr>\n",
              "  </tbody>\n",
              "</table>\n",
              "</div>\n",
              "      <button class=\"colab-df-convert\" onclick=\"convertToInteractive('df-7b4af375-4ed0-4985-a559-a5b23c059f84')\"\n",
              "              title=\"Convert this dataframe to an interactive table.\"\n",
              "              style=\"display:none;\">\n",
              "        \n",
              "  <svg xmlns=\"http://www.w3.org/2000/svg\" height=\"24px\"viewBox=\"0 0 24 24\"\n",
              "       width=\"24px\">\n",
              "    <path d=\"M0 0h24v24H0V0z\" fill=\"none\"/>\n",
              "    <path d=\"M18.56 5.44l.94 2.06.94-2.06 2.06-.94-2.06-.94-.94-2.06-.94 2.06-2.06.94zm-11 1L8.5 8.5l.94-2.06 2.06-.94-2.06-.94L8.5 2.5l-.94 2.06-2.06.94zm10 10l.94 2.06.94-2.06 2.06-.94-2.06-.94-.94-2.06-.94 2.06-2.06.94z\"/><path d=\"M17.41 7.96l-1.37-1.37c-.4-.4-.92-.59-1.43-.59-.52 0-1.04.2-1.43.59L10.3 9.45l-7.72 7.72c-.78.78-.78 2.05 0 2.83L4 21.41c.39.39.9.59 1.41.59.51 0 1.02-.2 1.41-.59l7.78-7.78 2.81-2.81c.8-.78.8-2.07 0-2.86zM5.41 20L4 18.59l7.72-7.72 1.47 1.35L5.41 20z\"/>\n",
              "  </svg>\n",
              "      </button>\n",
              "      \n",
              "  <style>\n",
              "    .colab-df-container {\n",
              "      display:flex;\n",
              "      flex-wrap:wrap;\n",
              "      gap: 12px;\n",
              "    }\n",
              "\n",
              "    .colab-df-convert {\n",
              "      background-color: #E8F0FE;\n",
              "      border: none;\n",
              "      border-radius: 50%;\n",
              "      cursor: pointer;\n",
              "      display: none;\n",
              "      fill: #1967D2;\n",
              "      height: 32px;\n",
              "      padding: 0 0 0 0;\n",
              "      width: 32px;\n",
              "    }\n",
              "\n",
              "    .colab-df-convert:hover {\n",
              "      background-color: #E2EBFA;\n",
              "      box-shadow: 0px 1px 2px rgba(60, 64, 67, 0.3), 0px 1px 3px 1px rgba(60, 64, 67, 0.15);\n",
              "      fill: #174EA6;\n",
              "    }\n",
              "\n",
              "    [theme=dark] .colab-df-convert {\n",
              "      background-color: #3B4455;\n",
              "      fill: #D2E3FC;\n",
              "    }\n",
              "\n",
              "    [theme=dark] .colab-df-convert:hover {\n",
              "      background-color: #434B5C;\n",
              "      box-shadow: 0px 1px 3px 1px rgba(0, 0, 0, 0.15);\n",
              "      filter: drop-shadow(0px 1px 2px rgba(0, 0, 0, 0.3));\n",
              "      fill: #FFFFFF;\n",
              "    }\n",
              "  </style>\n",
              "\n",
              "      <script>\n",
              "        const buttonEl =\n",
              "          document.querySelector('#df-7b4af375-4ed0-4985-a559-a5b23c059f84 button.colab-df-convert');\n",
              "        buttonEl.style.display =\n",
              "          google.colab.kernel.accessAllowed ? 'block' : 'none';\n",
              "\n",
              "        async function convertToInteractive(key) {\n",
              "          const element = document.querySelector('#df-7b4af375-4ed0-4985-a559-a5b23c059f84');\n",
              "          const dataTable =\n",
              "            await google.colab.kernel.invokeFunction('convertToInteractive',\n",
              "                                                     [key], {});\n",
              "          if (!dataTable) return;\n",
              "\n",
              "          const docLinkHtml = 'Like what you see? Visit the ' +\n",
              "            '<a target=\"_blank\" href=https://colab.research.google.com/notebooks/data_table.ipynb>data table notebook</a>'\n",
              "            + ' to learn more about interactive tables.';\n",
              "          element.innerHTML = '';\n",
              "          dataTable['output_type'] = 'display_data';\n",
              "          await google.colab.output.renderOutput(dataTable, element);\n",
              "          const docLink = document.createElement('div');\n",
              "          docLink.innerHTML = docLinkHtml;\n",
              "          element.appendChild(docLink);\n",
              "        }\n",
              "      </script>\n",
              "    </div>\n",
              "  </div>\n",
              "  "
            ]
          },
          "metadata": {},
          "execution_count": 40
        }
      ]
    },
    {
      "cell_type": "code",
      "source": [
        "train.info()"
      ],
      "metadata": {
        "id": "P87fFsVE115F",
        "colab": {
          "base_uri": "https://localhost:8080/"
        },
        "outputId": "525d738f-3bb7-4c25-d40c-36c631efa603"
      },
      "execution_count": 41,
      "outputs": [
        {
          "output_type": "stream",
          "name": "stdout",
          "text": [
            "<class 'pandas.core.frame.DataFrame'>\n",
            "RangeIndex: 7613 entries, 0 to 7612\n",
            "Data columns (total 5 columns):\n",
            " #   Column    Non-Null Count  Dtype \n",
            "---  ------    --------------  ----- \n",
            " 0   id        7613 non-null   int64 \n",
            " 1   keyword   7552 non-null   object\n",
            " 2   location  5080 non-null   object\n",
            " 3   text      7613 non-null   object\n",
            " 4   target    7613 non-null   int64 \n",
            "dtypes: int64(2), object(3)\n",
            "memory usage: 297.5+ KB\n"
          ]
        }
      ]
    },
    {
      "cell_type": "code",
      "source": [
        "train.duplicated().sum()"
      ],
      "metadata": {
        "id": "pAE2Pd7W14eB",
        "colab": {
          "base_uri": "https://localhost:8080/"
        },
        "outputId": "baeef84e-3101-46e1-e7ed-71a23179c030"
      },
      "execution_count": 42,
      "outputs": [
        {
          "output_type": "execute_result",
          "data": {
            "text/plain": [
              "0"
            ]
          },
          "metadata": {},
          "execution_count": 42
        }
      ]
    },
    {
      "cell_type": "markdown",
      "source": [
        "There are no duplicated tweets and no null values for the text, target, or id so we can con"
      ],
      "metadata": {
        "id": "9dv_rL3FYaAJ"
      }
    },
    {
      "cell_type": "code",
      "source": [
        "tweet_lengths = [len(tweet) for tweet in train['text']]"
      ],
      "metadata": {
        "id": "mezABN2Ce_qa"
      },
      "execution_count": 43,
      "outputs": []
    },
    {
      "cell_type": "code",
      "source": [
        "sns.boxplot(x = train['target'],y = tweet_lengths).set_title(\"Tweet Length by Target\")\n",
        "plt.show()"
      ],
      "metadata": {
        "id": "aQGY0369YZve",
        "colab": {
          "base_uri": "https://localhost:8080/",
          "height": 472
        },
        "outputId": "48e5875b-e910-4715-a3c2-7b8a8febe80d"
      },
      "execution_count": 44,
      "outputs": [
        {
          "output_type": "display_data",
          "data": {
            "text/plain": [
              "<Figure size 640x480 with 1 Axes>"
            ],
            "image/png": "[encoded data removed]"
          },
          "metadata": {}
        }
      ]
    },
    {
      "cell_type": "markdown",
      "source": [],
      "metadata": {
        "id": "aC0gV-32gRI4"
      }
    },
    {
      "cell_type": "code",
      "source": [
        "class Preprocessor:\n",
        "  def __init__(self,df):\n",
        "    self.df = df\n",
        "    self.cleaner_tweets =  [self.cleaner(tweet) for tweet in self.df['text']]\n",
        "    self.lem_tweets = [self.cleaning(doc) for doc in nlp.pipe(self.cleaner_tweets, batch_size=100)] \n",
        "    self.all_words = list(map(lambda tweet: tweet.split(), self.lem_tweets))\n",
        "  def cleaner(self,tweet): #function for removing punctuation, url links, and more\n",
        "    tweet = re.sub(r'https?:\\/\\/.*[\\r\\n]*', '', tweet, flags=re.MULTILINE) #removing all url links\n",
        "    tweet = re.sub(r\"[^A-Za-z0-9(),!?\\'\\`]\", \" \", tweet)\n",
        "    tweet = re.sub(\"^\\d+\\s|\\s\\d+\\s|\\s\\d+$s\", \" \", tweet)\n",
        "    tweet = re.sub(r\",\", \" , \", tweet)\n",
        "    tweet = re.sub(r\"!\", \"\", tweet)\n",
        "    tweet = re.sub(r\"\\(\", \" \", tweet)\n",
        "    tweet = re.sub(r\"\\)\", \" \", tweet)\n",
        "    tweet = re.sub(r\"\\?\", \"\", tweet)\n",
        "    tweet = re.sub(r\"\\{\", \" \", tweet)\n",
        "    tweet = re.sub(r\"\\}\", \" \", tweet)\n",
        "    tweet = re.sub(r\"\\[\", \" \", tweet)\n",
        "    tweet = re.sub(r\"\\]\", \" \", tweet)\n",
        "    tweet = re.sub(r\"\\-\", \"\", tweet)\n",
        "    tweet = re.sub(r\"\\_\", \" \", tweet)\n",
        "    tweet = re.sub(r\"\\s{2,}\", \" \", tweet)\n",
        "    tweet = re.sub(r\"[\\/,\\@,\\#,\\?,\\\\,\\{,\\},\\(,\\),\\[,\\],\\$,\\%,\\^,\\&,\\*,\\<,\\>]\", \"\", tweet)\n",
        "    tweet = re.sub(r'\\([^)]*\\)', '', tweet)\n",
        "    tweet = re.sub('\"','', tweet)\n",
        "    tweet = re.sub(r\"'s\\b\",\"\",tweet)\n",
        "    tweet = re.sub(r\"\\s+\",\" \",tweet)\n",
        "    tweet = re.sub(\"[^a-zA-Z0-9]\", \" \", tweet)\n",
        "    tweet = re.sub(r\"\\b\\d+\\b\", \"\", tweet)\n",
        "    tweet = tweet.strip().lower()\n",
        "    return tweet\n",
        "  def cleaning(self,doc):\n",
        "    # Lemmatizes and removes stopwords, doc needs to be a spacy 'doc'\n",
        "    txt = [token.lemma_ for token in doc if not token.is_stop]\n",
        "    return ' '.join(txt)\n"
      ],
      "metadata": {
        "id": "Lo1CfJSlFOOw"
      },
      "execution_count": 45,
      "outputs": []
    },
    {
      "cell_type": "code",
      "source": [
        "df=pd.concat([train,test])\n",
        "processed_df = Preprocessor(df)\n"
      ],
      "metadata": {
        "id": "mTB2Jo7IJqzf"
      },
      "execution_count": 46,
      "outputs": []
    },
    {
      "cell_type": "code",
      "source": [
        "processed_df.df"
      ],
      "metadata": {
        "colab": {
          "base_uri": "https://localhost:8080/",
          "height": 423
        },
        "id": "ni5TaPWE0IQn",
        "outputId": "7de6aff0-1c6c-42da-8357-10f26aa27bf1"
      },
      "execution_count": 47,
      "outputs": [
        {
          "output_type": "execute_result",
          "data": {
            "text/plain": [
              "         id keyword location  \\\n",
              "0         1     NaN      NaN   \n",
              "1         4     NaN      NaN   \n",
              "2         5     NaN      NaN   \n",
              "3         6     NaN      NaN   \n",
              "4         7     NaN      NaN   \n",
              "...     ...     ...      ...   \n",
              "3258  10861     NaN      NaN   \n",
              "3259  10865     NaN      NaN   \n",
              "3260  10868     NaN      NaN   \n",
              "3261  10874     NaN      NaN   \n",
              "3262  10875     NaN      NaN   \n",
              "\n",
              "                                                   text  target  \n",
              "0     Our Deeds are the Reason of this #earthquake M...     1.0  \n",
              "1                Forest fire near La Ronge Sask. Canada     1.0  \n",
              "2     All residents asked to 'shelter in place' are ...     1.0  \n",
              "3     13,000 people receive #wildfires evacuation or...     1.0  \n",
              "4     Just got sent this photo from Ruby #Alaska as ...     1.0  \n",
              "...                                                 ...     ...  \n",
              "3258  EARTHQUAKE SAFETY LOS ANGELES ÛÒ SAFETY FASTE...     NaN  \n",
              "3259  Storm in RI worse than last hurricane. My city...     NaN  \n",
              "3260  Green Line derailment in Chicago http://t.co/U...     NaN  \n",
              "3261  MEG issues Hazardous Weather Outlook (HWO) htt...     NaN  \n",
              "3262  #CityofCalgary has activated its Municipal Eme...     NaN  \n",
              "\n",
              "[10876 rows x 5 columns]"
            ],
            "text/html": [
              "\n",
              "  <div id=\"df-dcbf5046-0f16-42fb-8ed2-936afd9f270a\">\n",
              "    <div class=\"colab-df-container\">\n",
              "      <div>\n",
              "<style scoped>\n",
              "    .dataframe tbody tr th:only-of-type {\n",
              "        vertical-align: middle;\n",
              "    }\n",
              "\n",
              "    .dataframe tbody tr th {\n",
              "        vertical-align: top;\n",
              "    }\n",
              "\n",
              "    .dataframe thead th {\n",
              "        text-align: right;\n",
              "    }\n",
              "</style>\n",
              "<table border=\"1\" class=\"dataframe\">\n",
              "  <thead>\n",
              "    <tr style=\"text-align: right;\">\n",
              "      <th></th>\n",
              "      <th>id</th>\n",
              "      <th>keyword</th>\n",
              "      <th>location</th>\n",
              "      <th>text</th>\n",
              "      <th>target</th>\n",
              "    </tr>\n",
              "  </thead>\n",
              "  <tbody>\n",
              "    <tr>\n",
              "      <th>0</th>\n",
              "      <td>1</td>\n",
              "      <td>NaN</td>\n",
              "      <td>NaN</td>\n",
              "      <td>Our Deeds are the Reason of this #earthquake M...</td>\n",
              "      <td>1.0</td>\n",
              "    </tr>\n",
              "    <tr>\n",
              "      <th>1</th>\n",
              "      <td>4</td>\n",
              "      <td>NaN</td>\n",
              "      <td>NaN</td>\n",
              "      <td>Forest fire near La Ronge Sask. Canada</td>\n",
              "      <td>1.0</td>\n",
              "    </tr>\n",
              "    <tr>\n",
              "      <th>2</th>\n",
              "      <td>5</td>\n",
              "      <td>NaN</td>\n",
              "      <td>NaN</td>\n",
              "      <td>All residents asked to 'shelter in place' are ...</td>\n",
              "      <td>1.0</td>\n",
              "    </tr>\n",
              "    <tr>\n",
              "      <th>3</th>\n",
              "      <td>6</td>\n",
              "      <td>NaN</td>\n",
              "      <td>NaN</td>\n",
              "      <td>13,000 people receive #wildfires evacuation or...</td>\n",
              "      <td>1.0</td>\n",
              "    </tr>\n",
              "    <tr>\n",
              "      <th>4</th>\n",
              "      <td>7</td>\n",
              "      <td>NaN</td>\n",
              "      <td>NaN</td>\n",
              "      <td>Just got sent this photo from Ruby #Alaska as ...</td>\n",
              "      <td>1.0</td>\n",
              "    </tr>\n",
              "    <tr>\n",
              "      <th>...</th>\n",
              "      <td>...</td>\n",
              "      <td>...</td>\n",
              "      <td>...</td>\n",
              "      <td>...</td>\n",
              "      <td>...</td>\n",
              "    </tr>\n",
              "    <tr>\n",
              "      <th>3258</th>\n",
              "      <td>10861</td>\n",
              "      <td>NaN</td>\n",
              "      <td>NaN</td>\n",
              "      <td>EARTHQUAKE SAFETY LOS ANGELES ÛÒ SAFETY FASTE...</td>\n",
              "      <td>NaN</td>\n",
              "    </tr>\n",
              "    <tr>\n",
              "      <th>3259</th>\n",
              "      <td>10865</td>\n",
              "      <td>NaN</td>\n",
              "      <td>NaN</td>\n",
              "      <td>Storm in RI worse than last hurricane. My city...</td>\n",
              "      <td>NaN</td>\n",
              "    </tr>\n",
              "    <tr>\n",
              "      <th>3260</th>\n",
              "      <td>10868</td>\n",
              "      <td>NaN</td>\n",
              "      <td>NaN</td>\n",
              "      <td>Green Line derailment in Chicago http://t.co/U...</td>\n",
              "      <td>NaN</td>\n",
              "    </tr>\n",
              "    <tr>\n",
              "      <th>3261</th>\n",
              "      <td>10874</td>\n",
              "      <td>NaN</td>\n",
              "      <td>NaN</td>\n",
              "      <td>MEG issues Hazardous Weather Outlook (HWO) htt...</td>\n",
              "      <td>NaN</td>\n",
              "    </tr>\n",
              "    <tr>\n",
              "      <th>3262</th>\n",
              "      <td>10875</td>\n",
              "      <td>NaN</td>\n",
              "      <td>NaN</td>\n",
              "      <td>#CityofCalgary has activated its Municipal Eme...</td>\n",
              "      <td>NaN</td>\n",
              "    </tr>\n",
              "  </tbody>\n",
              "</table>\n",
              "<p>10876 rows × 5 columns</p>\n",
              "</div>\n",
              "      <button class=\"colab-df-convert\" onclick=\"convertToInteractive('df-dcbf5046-0f16-42fb-8ed2-936afd9f270a')\"\n",
              "              title=\"Convert this dataframe to an interactive table.\"\n",
              "              style=\"display:none;\">\n",
              "        \n",
              "  <svg xmlns=\"http://www.w3.org/2000/svg\" height=\"24px\"viewBox=\"0 0 24 24\"\n",
              "       width=\"24px\">\n",
              "    <path d=\"M0 0h24v24H0V0z\" fill=\"none\"/>\n",
              "    <path d=\"M18.56 5.44l.94 2.06.94-2.06 2.06-.94-2.06-.94-.94-2.06-.94 2.06-2.06.94zm-11 1L8.5 8.5l.94-2.06 2.06-.94-2.06-.94L8.5 2.5l-.94 2.06-2.06.94zm10 10l.94 2.06.94-2.06 2.06-.94-2.06-.94-.94-2.06-.94 2.06-2.06.94z\"/><path d=\"M17.41 7.96l-1.37-1.37c-.4-.4-.92-.59-1.43-.59-.52 0-1.04.2-1.43.59L10.3 9.45l-7.72 7.72c-.78.78-.78 2.05 0 2.83L4 21.41c.39.39.9.59 1.41.59.51 0 1.02-.2 1.41-.59l7.78-7.78 2.81-2.81c.8-.78.8-2.07 0-2.86zM5.41 20L4 18.59l7.72-7.72 1.47 1.35L5.41 20z\"/>\n",
              "  </svg>\n",
              "      </button>\n",
              "      \n",
              "  <style>\n",
              "    .colab-df-container {\n",
              "      display:flex;\n",
              "      flex-wrap:wrap;\n",
              "      gap: 12px;\n",
              "    }\n",
              "\n",
              "    .colab-df-convert {\n",
              "      background-color: #E8F0FE;\n",
              "      border: none;\n",
              "      border-radius: 50%;\n",
              "      cursor: pointer;\n",
              "      display: none;\n",
              "      fill: #1967D2;\n",
              "      height: 32px;\n",
              "      padding: 0 0 0 0;\n",
              "      width: 32px;\n",
              "    }\n",
              "\n",
              "    .colab-df-convert:hover {\n",
              "      background-color: #E2EBFA;\n",
              "      box-shadow: 0px 1px 2px rgba(60, 64, 67, 0.3), 0px 1px 3px 1px rgba(60, 64, 67, 0.15);\n",
              "      fill: #174EA6;\n",
              "    }\n",
              "\n",
              "    [theme=dark] .colab-df-convert {\n",
              "      background-color: #3B4455;\n",
              "      fill: #D2E3FC;\n",
              "    }\n",
              "\n",
              "    [theme=dark] .colab-df-convert:hover {\n",
              "      background-color: #434B5C;\n",
              "      box-shadow: 0px 1px 3px 1px rgba(0, 0, 0, 0.15);\n",
              "      filter: drop-shadow(0px 1px 2px rgba(0, 0, 0, 0.3));\n",
              "      fill: #FFFFFF;\n",
              "    }\n",
              "  </style>\n",
              "\n",
              "      <script>\n",
              "        const buttonEl =\n",
              "          document.querySelector('#df-dcbf5046-0f16-42fb-8ed2-936afd9f270a button.colab-df-convert');\n",
              "        buttonEl.style.display =\n",
              "          google.colab.kernel.accessAllowed ? 'block' : 'none';\n",
              "\n",
              "        async function convertToInteractive(key) {\n",
              "          const element = document.querySelector('#df-dcbf5046-0f16-42fb-8ed2-936afd9f270a');\n",
              "          const dataTable =\n",
              "            await google.colab.kernel.invokeFunction('convertToInteractive',\n",
              "                                                     [key], {});\n",
              "          if (!dataTable) return;\n",
              "\n",
              "          const docLinkHtml = 'Like what you see? Visit the ' +\n",
              "            '<a target=\"_blank\" href=https://colab.research.google.com/notebooks/data_table.ipynb>data table notebook</a>'\n",
              "            + ' to learn more about interactive tables.';\n",
              "          element.innerHTML = '';\n",
              "          dataTable['output_type'] = 'display_data';\n",
              "          await google.colab.output.renderOutput(dataTable, element);\n",
              "          const docLink = document.createElement('div');\n",
              "          docLink.innerHTML = docLinkHtml;\n",
              "          element.appendChild(docLink);\n",
              "        }\n",
              "      </script>\n",
              "    </div>\n",
              "  </div>\n",
              "  "
            ]
          },
          "metadata": {},
          "execution_count": 47
        }
      ]
    },
    {
      "cell_type": "markdown",
      "source": [
        "Overall the tweets are very short so basic preprocessing will be enoguh for our purposes."
      ],
      "metadata": {
        "id": "my2s_LM32Xem"
      }
    },
    {
      "cell_type": "markdown",
      "source": [
        "As can be seen above, spacy contains a tokenizer, tagger, parser, lemmatizer, and named entity recognition already built in. Spacy is preferable over NLP libraries such as NLTK due its processing speed and is the preferred NLP library in industry. "
      ],
      "metadata": {
        "id": "-dhnv_gw9Mo4"
      }
    },
    {
      "cell_type": "markdown",
      "source": [
        "We are speed up preprocessing process through nlp.pipe"
      ],
      "metadata": {
        "id": "7Jtqqa5LZorA"
      }
    },
    {
      "cell_type": "code",
      "source": [
        "def graph_frequency(df, all_tweets, num_words,target_num):\n",
        "  target_string = \"Disaster\" if target_num == 1 else \"Non-Disaster\"\n",
        "  style = \"dark_background\" if target_num == 1 else \"default\"\n",
        "  indexes = list(df[df['target'] ==target_num].index.values)\n",
        "  all_words = list(map(lambda tweet: tweet.split(), [all_tweets[i] for i in indexes]))\n",
        "  all_words_flat =[word for tweet in all_words for word in tweet if word not in ['t','m','s']]\n",
        "  freq_all_common = Counter(all_words_flat).most_common(num_words)\n",
        "  plt.style.use(style)\n",
        "  plt.figure(figsize=(min(int(num_words*.8),24), 5))\n",
        "  sns.barplot(x=[word[0] for word in freq_all_common], y=[count[1] for count in freq_all_common])\n",
        "  plt.title(f'Most Frequent Words in {target_string} Tweets')\n",
        "  plt.show()\n"
      ],
      "metadata": {
        "id": "g1vc9wuPZm5P"
      },
      "execution_count": 18,
      "outputs": []
    },
    {
      "cell_type": "code",
      "source": [
        "graph_frequency(processed_df.df,processed_df.lem_tweets,20,1)\n",
        "graph_frequency(processed_df.df,processed_df.lem_tweets,20,0)"
      ],
      "metadata": {
        "id": "wDzuIcTQlPug",
        "colab": {
          "base_uri": "https://localhost:8080/",
          "height": 919
        },
        "outputId": "b7869206-f96b-4d59-b3aa-58c8cc47d17b"
      },
      "execution_count": 48,
      "outputs": [
        {
          "output_type": "display_data",
          "data": {
            "text/plain": [
              "<Figure size 1600x500 with 1 Axes>"
            ],
            "image/png": "[encoded data removed]"
          },
          "metadata": {}
        },
        {
          "output_type": "display_data",
          "data": {
            "text/plain": [
              "<Figure size 1600x500 with 1 Axes>"
            ],
            "image/png": "[encoded data removed]"
          },
          "metadata": {}
        }
      ]
    },
    {
      "cell_type": "markdown",
      "source": [
        "There are three main take aways form the graphs above:\n",
        "\n",
        "1.   Tweets with actual disasters have common words that are longer than tweets not for natural disasters\n",
        "2.   Tweets with actual disasters have much more violent words such as kill, suicide, attack, disaster, and fire\n",
        "3. We need to look into what \"amp\" stands for since it is the second most common word in both graphs\n"
      ],
      "metadata": {
        "id": "wv1YgaoYwMLQ"
      }
    },
    {
      "cell_type": "markdown",
      "source": [
        "### Vectorize with Glove\n",
        "We will be using Glove as our vectorizer. I downliaded a pretrained word vectors for twitter from https://nlp.stanford.edu/projects/glove/ to speed up the modeling process and also improve the models performance. I used the 50-dimensional "
      ],
      "metadata": {
        "id": "b_5zMTzj__63"
      }
    },
    {
      "cell_type": "code",
      "source": [
        "dict_glove={}\n",
        "with open('/content/drive/MyDrive/glove.twitter.27B.50d.txt','r') as f: #reading file into dictioinary\n",
        "    for line in f:\n",
        "        vals=line.split()\n",
        "        word=vals[0]\n",
        "        vects=np.asarray(vals[1:],'float32')\n",
        "        dict_glove[word]=vects\n",
        "f.close()"
      ],
      "metadata": {
        "id": "ntnnzD1E5Jrp"
      },
      "execution_count": 20,
      "outputs": []
    },
    {
      "cell_type": "code",
      "source": [
        "def create_embeddings(processed_data):\n",
        "  lengths = [len(processed_data.all_words[i]) for i in range(len(processed_data.all_words))] #getting lengths of every sequence\n",
        "  print(f\"The max length is {max(lengths)}, so we will set the max length for padding to this value\") #we will pad to 22\n",
        "  MAX_LENGTH= 22\n",
        "  tokenizer=Tokenizer()\n",
        "  tokenizer.fit_on_texts(processed_data.all_words) #fitting tokenizer on processed training data\n",
        "  sequences=tokenizer.texts_to_sequences(processed_data.all_words) #creating sequences words\n",
        "  tweet_pad=pad_sequences(sequences, maxlen=MAX_LENGTH,truncating='post',padding='post') #padding and truncting to make input lengths even for model\n",
        "  word_dict =tokenizer.word_index\n",
        "  num_unigrams = len(word_dict) + 1 #number of unique words (unigrams)\n",
        "  embedding_matrix=np.zeros((num_unigrams,50)) #initializing embedding dictionary to store embedded values\n",
        "  for word, i in word_dict.items():  \n",
        "      if i < len(word_dict)+1: \n",
        "        glove_vec=dict_glove.get(word) #setting this iteratin of vectorizer\n",
        "        if glove_vec is not None:\n",
        "          embedding_matrix[i]= glove_vec #adding vectorized word to embedded matrix\n",
        "  return embedding_matrix, tweet_pad"
      ],
      "metadata": {
        "id": "7U2j8ZWg-BI_"
      },
      "execution_count": 54,
      "outputs": []
    },
    {
      "cell_type": "code",
      "source": [
        "embeddings, tweet_padded = create_embeddings(processed_df)"
      ],
      "metadata": {
        "colab": {
          "base_uri": "https://localhost:8080/"
        },
        "id": "Tah7ypGN6ozl",
        "outputId": "05a31f08-132c-4b98-e181-10cdde460bcb"
      },
      "execution_count": 55,
      "outputs": [
        {
          "output_type": "stream",
          "name": "stdout",
          "text": [
            "The max length is 22, so we will set the max length for padding to this value\n"
          ]
        }
      ]
    },
    {
      "cell_type": "code",
      "source": [
        "embeddings.shape"
      ],
      "metadata": {
        "colab": {
          "base_uri": "https://localhost:8080/"
        },
        "id": "S4YSWvjyQMOi",
        "outputId": "db628db8-12f1-467d-ddcc-47c3affb9f1f"
      },
      "execution_count": 56,
      "outputs": [
        {
          "output_type": "execute_result",
          "data": {
            "text/plain": [
              "(17192, 50)"
            ]
          },
          "metadata": {},
          "execution_count": 56
        }
      ]
    },
    {
      "cell_type": "markdown",
      "source": [
        "We will be builidng an LSTM (Long Short-Term Memory) neural network instead of standard Recurrent Neural Network since standard RNNs deal with the vanishing gradient problem by having more useful features such as a filter for predictions, forget gate, and more. LTSM also has the ability to look back more timesteps. In general, RNN or RNN varities tend to work vary well with sequntial patterns. "
      ],
      "metadata": {
        "id": "56YOOdG_fZMf"
      }
    },
    {
      "cell_type": "markdown",
      "source": [
        "**Model 1: LTSM Without Tuning**"
      ],
      "metadata": {
        "id": "PLMk65TuoykH"
      }
    },
    {
      "cell_type": "code",
      "source": [
        "callback = tf.keras.callbacks.EarlyStopping(monitor='loss', patience=3) #for early stopping\n",
        "\n",
        "\n",
        "model=Sequential()\n",
        "\n",
        "\n",
        "# Args:\n",
        "# input_dim (Size of the vocabulary), output_dim ( Dimension of the dense embedding), embeddings_initializer (Initializer for the `embeddings`)\n",
        "# input_length (Length of input sequences)\n",
        "embedding=Embedding(len(embeddings),50,embeddings_initializer=Constant(embeddings),\n",
        "                  input_length= 22 ,trainable=False)\n",
        "model.add(embedding)\n",
        "model.add(SpatialDropout1D(0.2)) \n",
        "model.add(LSTM(64, dropout=0.2, recurrent_dropout=0.2))\n",
        "model.add(Dense(1, activation='sigmoid'))\n",
        "\n",
        "\n",
        "optimzer=Adam(learning_rate=5e-5)  \n",
        "\n",
        "model.compile(loss='binary_crossentropy',optimizer=optimzer,metrics=['accuracy'])"
      ],
      "metadata": {
        "id": "EMKSt-DYEbsp",
        "colab": {
          "base_uri": "https://localhost:8080/"
        },
        "outputId": "606ec7e8-ff37-4227-b9e9-6d7725b13e00"
      },
      "execution_count": 57,
      "outputs": [
        {
          "output_type": "stream",
          "name": "stderr",
          "text": [
            "WARNING:tensorflow:Layer lstm_1 will not use cuDNN kernels since it doesn't meet the criteria. It will use a generic GPU kernel as fallback when running on GPU.\n"
          ]
        }
      ]
    },
    {
      "cell_type": "code",
      "source": [
        "model.summary()"
      ],
      "metadata": {
        "id": "HlxUWc4MEf0_",
        "colab": {
          "base_uri": "https://localhost:8080/"
        },
        "outputId": "66418a0f-5332-4b05-fc6f-652a7e5f044f"
      },
      "execution_count": 58,
      "outputs": [
        {
          "output_type": "stream",
          "name": "stdout",
          "text": [
            "Model: \"sequential_1\"\n",
            "_________________________________________________________________\n",
            " Layer (type)                Output Shape              Param #   \n",
            "=================================================================\n",
            " embedding_2 (Embedding)     (None, 22, 50)            859600    \n",
            "                                                                 \n",
            " spatial_dropout1d_1 (Spatia  (None, 22, 50)           0         \n",
            " lDropout1D)                                                     \n",
            "                                                                 \n",
            " lstm_1 (LSTM)               (None, 64)                29440     \n",
            "                                                                 \n",
            " dense_1 (Dense)             (None, 1)                 65        \n",
            "                                                                 \n",
            "=================================================================\n",
            "Total params: 889,105\n",
            "Trainable params: 29,505\n",
            "Non-trainable params: 859,600\n",
            "_________________________________________________________________\n"
          ]
        }
      ]
    },
    {
      "cell_type": "code",
      "source": [
        "train_df=tweet_padded[:train.shape[0]]\n",
        "test_sub=tweet_padded[train.shape[0]:]"
      ],
      "metadata": {
        "id": "L97x_1SXNWPh"
      },
      "execution_count": 60,
      "outputs": []
    },
    {
      "cell_type": "code",
      "source": [
        "X_train,X_test,y_train,y_test=train_test_split(train_df,train['target'].values,test_size=0.15)\n",
        "print('Shape of train',X_train.shape)\n",
        "print(\"Shape of Validation \",X_test.shape)"
      ],
      "metadata": {
        "id": "5ev_EKGxNYeS",
        "colab": {
          "base_uri": "https://localhost:8080/"
        },
        "outputId": "c8bd0e56-ee09-47b7-dfb8-c5cc7d1b7c52"
      },
      "execution_count": 62,
      "outputs": [
        {
          "output_type": "stream",
          "name": "stdout",
          "text": [
            "Shape of train (6471, 22)\n",
            "Shape of Validation  (1142, 22)\n"
          ]
        }
      ]
    },
    {
      "cell_type": "code",
      "source": [
        "history=model.fit(X_train,y_train,batch_size=32,epochs=30,validation_data=(X_test,y_test),verbose=2, callbacks=[callback]) #smaller batch sizes peform better"
      ],
      "metadata": {
        "id": "OXqioYCGNbgc",
        "colab": {
          "base_uri": "https://localhost:8080/"
        },
        "outputId": "8e773d53-d000-4f37-ddc9-af13e4ac07ef"
      },
      "execution_count": 66,
      "outputs": [
        {
          "output_type": "stream",
          "name": "stdout",
          "text": [
            "Epoch 1/30\n",
            "203/203 - 21s - loss: 0.5215 - accuracy: 0.7568 - val_loss: 0.5049 - val_accuracy: 0.7758 - 21s/epoch - 104ms/step\n",
            "Epoch 2/30\n",
            "203/203 - 19s - loss: 0.5033 - accuracy: 0.7719 - val_loss: 0.4963 - val_accuracy: 0.7793 - 19s/epoch - 92ms/step\n",
            "Epoch 3/30\n",
            "203/203 - 16s - loss: 0.4941 - accuracy: 0.7750 - val_loss: 0.4895 - val_accuracy: 0.7881 - 16s/epoch - 79ms/step\n",
            "Epoch 4/30\n",
            "203/203 - 17s - loss: 0.4919 - accuracy: 0.7707 - val_loss: 0.4832 - val_accuracy: 0.7907 - 17s/epoch - 82ms/step\n",
            "Epoch 5/30\n",
            "203/203 - 20s - loss: 0.4884 - accuracy: 0.7759 - val_loss: 0.4804 - val_accuracy: 0.7890 - 20s/epoch - 99ms/step\n",
            "Epoch 6/30\n",
            "203/203 - 26s - loss: 0.4913 - accuracy: 0.7735 - val_loss: 0.4777 - val_accuracy: 0.7881 - 26s/epoch - 130ms/step\n",
            "Epoch 7/30\n",
            "203/203 - 23s - loss: 0.4818 - accuracy: 0.7810 - val_loss: 0.4779 - val_accuracy: 0.7872 - 23s/epoch - 114ms/step\n",
            "Epoch 8/30\n",
            "203/203 - 16s - loss: 0.4850 - accuracy: 0.7772 - val_loss: 0.4754 - val_accuracy: 0.7872 - 16s/epoch - 80ms/step\n",
            "Epoch 9/30\n",
            "203/203 - 16s - loss: 0.4817 - accuracy: 0.7810 - val_loss: 0.4752 - val_accuracy: 0.7907 - 16s/epoch - 80ms/step\n",
            "Epoch 10/30\n",
            "203/203 - 16s - loss: 0.4866 - accuracy: 0.7799 - val_loss: 0.4729 - val_accuracy: 0.7925 - 16s/epoch - 78ms/step\n",
            "Epoch 11/30\n",
            "203/203 - 16s - loss: 0.4781 - accuracy: 0.7860 - val_loss: 0.4713 - val_accuracy: 0.7898 - 16s/epoch - 79ms/step\n",
            "Epoch 12/30\n",
            "203/203 - 21s - loss: 0.4789 - accuracy: 0.7837 - val_loss: 0.4721 - val_accuracy: 0.7925 - 21s/epoch - 101ms/step\n",
            "Epoch 13/30\n",
            "203/203 - 17s - loss: 0.4830 - accuracy: 0.7765 - val_loss: 0.4702 - val_accuracy: 0.7898 - 17s/epoch - 82ms/step\n",
            "Epoch 14/30\n",
            "203/203 - 16s - loss: 0.4784 - accuracy: 0.7799 - val_loss: 0.4706 - val_accuracy: 0.7925 - 16s/epoch - 80ms/step\n"
          ]
        }
      ]
    },
    {
      "cell_type": "code",
      "source": [
        "from keras.saving.hdf5_format import load_model_from_hdf5\n",
        "# !mkdir -p drive/MyDrive/Disaster_Tweet_Models\n",
        "model.save('drive/MyDrive/Disaster_Tweet_Models/LSTMUntunedDec4.h5')\n",
        "# model = load_model_from_hdf5('drive/MyDrive/Disaster_Tweet_Models/LSTMUntunedDec4.h5')"
      ],
      "metadata": {
        "id": "7scku_sTruy6"
      },
      "execution_count": 69,
      "outputs": []
    },
    {
      "cell_type": "code",
      "source": [
        "def plot_model_results(model_history, plot_title):\n",
        "  fig, (ax1,ax2) = plt.subplots(2,1)\n",
        "  ax1.plot(model_history.history['accuracy'])\n",
        "  ax1.plot(model_history.history['val_accuracy'])\n",
        "  ax1.set_title(plot_title)\n",
        "  ax1.set_xlabel('Epoch')\n",
        "  ax1.set_ylabel('Accuracy')\n",
        "  ax1.legend(['train', 'validation'])\n",
        "\n",
        "  ax2.plot(model_history.history['loss'])\n",
        "  ax2.plot(model_history.history['val_loss'])\n",
        "  ax2.set_xlabel('Epoch')\n",
        "  ax2.set_ylabel('Loss')\n",
        "  ax2.legend(['train', 'validation'])\n",
        "\n",
        "  plt.show()\n",
        "plot_model_results(history, \"Model 1\")"
      ],
      "metadata": {
        "colab": {
          "base_uri": "https://localhost:8080/",
          "height": 472
        },
        "id": "8Oh2cz5hrLVI",
        "outputId": "2bfdba6e-7aa0-467b-971d-b51d40605c99"
      },
      "execution_count": 70,
      "outputs": [
        {
          "output_type": "display_data",
          "data": {
            "text/plain": [
              "<Figure size 640x480 with 2 Axes>"
            ],
            "image/png": "[encoded data removed]"
          },
          "metadata": {}
        }
      ]
    },
    {
      "cell_type": "markdown",
      "source": [
        "**Model 2: LTSM With tuning**"
      ],
      "metadata": {
        "id": "qcGye5lko7dy"
      }
    },
    {
      "cell_type": "code",
      "source": [
        "def build_model(hp):\n",
        "    model2 = Sequential()\n",
        "    model2.add(embedding)\n",
        "    for i in range(hp.Int('n_layers', 1, 3)):\n",
        "        model2.add(LSTM(hp.Int(f'lstm_{i}_units',min_value=32,max_value=512,step=32),return_sequences=True))\n",
        "    model2.add(LSTM(hp.Int('layer_2_neurons',min_value=32,max_value=512,step=32)))\n",
        "    model2.add(Dropout(hp.Float('Dropout_rate',min_value=0,max_value=0.5,step=0.1)))\n",
        "    model2.add(Dense(y_train.shape[0], activation=hp.Choice('dense_activation',values=['relu', 'sigmoid'],default='relu')))\n",
        "    model.add(Dropout(0.2)) \n",
        "    model2.add(Dense(128, activation='sigmoid'))\n",
        "    model.add(Dropout(0.2)) \n",
        "    model2.add(Dense(1, activation='sigmoid'))\n",
        "    model2.compile(loss='mean_squared_error', optimizer='adam',metrics = ['mse'])\n",
        "    return model2"
      ],
      "metadata": {
        "id": "4tqKA2l7o68Y"
      },
      "execution_count": 140,
      "outputs": []
    },
    {
      "cell_type": "code",
      "source": [
        "tuner= kt.RandomSearch(\n",
        "        build_model,\n",
        "        objective='mse',\n",
        "        max_trials=2,\n",
        "        executions_per_trial=1\n",
        "        )"
      ],
      "metadata": {
        "id": "D4OFYqC8pXTe"
      },
      "execution_count": 141,
      "outputs": []
    },
    {
      "cell_type": "code",
      "source": [
        "tuner.search(\n",
        "        x=X_train,\n",
        "        y=y_train,\n",
        "        epochs=20,\n",
        "        batch_size=128,\n",
        "        validation_data=(X_test,y_test),\n",
        ")"
      ],
      "metadata": {
        "id": "6cTZRJ_opaSK"
      },
      "execution_count": 142,
      "outputs": []
    },
    {
      "cell_type": "code",
      "source": [
        "tuner"
      ],
      "metadata": {
        "colab": {
          "base_uri": "https://localhost:8080/"
        },
        "id": "vIvgQul5Y3IZ",
        "outputId": "017e4d65-3a51-4f92-a514-4972160d8a49"
      },
      "execution_count": 143,
      "outputs": [
        {
          "output_type": "execute_result",
          "data": {
            "text/plain": [
              "<keras_tuner.tuners.randomsearch.RandomSearch at 0x7fdc9410b970>"
            ]
          },
          "metadata": {},
          "execution_count": 143
        }
      ]
    },
    {
      "cell_type": "code",
      "source": [
        "best_model = tuner.get_best_models(num_models=1)[0]\n",
        "\n",
        "# best_model = load_model_from_hdf5('drive/MyDrive/Disaster_Tweet_Models/LTSM_Tuned.h5')"
      ],
      "metadata": {
        "id": "qCbndPmWpiMY",
        "colab": {
          "base_uri": "https://localhost:8080/"
        },
        "outputId": "1341acab-e295-4069-c7f1-6f856b21d220"
      },
      "execution_count": 144,
      "outputs": [
        {
          "output_type": "stream",
          "name": "stderr",
          "text": [
            "WARNING:tensorflow:Detecting that an object or model or tf.train.Checkpoint is being deleted with unrestored values. See the following logs for the specific values in question. To silence these warnings, use `status.expect_partial()`. See https://www.tensorflow.org/api_docs/python/tf/train/Checkpoint#restorefor details about the status object returned by the restore function.\n",
            "WARNING:tensorflow:Value in checkpoint could not be found in the restored object: (root).optimizer.iter\n",
            "WARNING:tensorflow:Value in checkpoint could not be found in the restored object: (root).optimizer.beta_1\n",
            "WARNING:tensorflow:Value in checkpoint could not be found in the restored object: (root).optimizer.beta_2\n",
            "WARNING:tensorflow:Value in checkpoint could not be found in the restored object: (root).optimizer.decay\n",
            "WARNING:tensorflow:Value in checkpoint could not be found in the restored object: (root).optimizer.learning_rate\n"
          ]
        }
      ]
    },
    {
      "cell_type": "code",
      "source": [
        "history2=best_model.fit(X_train,y_train,batch_size=32,epochs=30,validation_data=(X_test,y_test),verbose=2, callbacks=[callback])"
      ],
      "metadata": {
        "colab": {
          "base_uri": "https://localhost:8080/"
        },
        "id": "LoCuoZSqxu9n",
        "outputId": "5b0900a3-dbed-4583-8952-381535467b49"
      },
      "execution_count": 146,
      "outputs": [
        {
          "output_type": "stream",
          "name": "stdout",
          "text": [
            "Epoch 1/30\n",
            "203/203 - 2s - loss: 0.2463 - mse: 0.2463 - val_loss: 0.2471 - val_mse: 0.2471 - 2s/epoch - 9ms/step\n",
            "Epoch 2/30\n",
            "203/203 - 2s - loss: 0.2465 - mse: 0.2465 - val_loss: 0.2484 - val_mse: 0.2484 - 2s/epoch - 8ms/step\n",
            "Epoch 3/30\n",
            "203/203 - 2s - loss: 0.2460 - mse: 0.2460 - val_loss: 0.2463 - val_mse: 0.2463 - 2s/epoch - 8ms/step\n",
            "Epoch 4/30\n",
            "203/203 - 2s - loss: 0.2460 - mse: 0.2460 - val_loss: 0.2451 - val_mse: 0.2451 - 2s/epoch - 8ms/step\n",
            "Epoch 5/30\n",
            "203/203 - 2s - loss: 0.2458 - mse: 0.2458 - val_loss: 0.2449 - val_mse: 0.2449 - 2s/epoch - 8ms/step\n",
            "Epoch 6/30\n",
            "203/203 - 2s - loss: 0.2453 - mse: 0.2453 - val_loss: 0.2451 - val_mse: 0.2451 - 2s/epoch - 8ms/step\n",
            "Epoch 7/30\n",
            "203/203 - 2s - loss: 0.2248 - mse: 0.2248 - val_loss: 0.2004 - val_mse: 0.2004 - 2s/epoch - 8ms/step\n",
            "Epoch 8/30\n",
            "203/203 - 2s - loss: 0.1669 - mse: 0.1669 - val_loss: 0.1672 - val_mse: 0.1672 - 2s/epoch - 9ms/step\n",
            "Epoch 9/30\n",
            "203/203 - 2s - loss: 0.1409 - mse: 0.1409 - val_loss: 0.1532 - val_mse: 0.1532 - 2s/epoch - 11ms/step\n",
            "Epoch 10/30\n",
            "203/203 - 2s - loss: 0.1232 - mse: 0.1232 - val_loss: 0.1550 - val_mse: 0.1550 - 2s/epoch - 8ms/step\n",
            "Epoch 11/30\n",
            "203/203 - 2s - loss: 0.1112 - mse: 0.1112 - val_loss: 0.1467 - val_mse: 0.1467 - 2s/epoch - 8ms/step\n",
            "Epoch 12/30\n",
            "203/203 - 2s - loss: 0.1073 - mse: 0.1073 - val_loss: 0.1535 - val_mse: 0.1535 - 2s/epoch - 8ms/step\n",
            "Epoch 13/30\n",
            "203/203 - 2s - loss: 0.0960 - mse: 0.0960 - val_loss: 0.1688 - val_mse: 0.1688 - 2s/epoch - 8ms/step\n",
            "Epoch 14/30\n",
            "203/203 - 2s - loss: 0.0918 - mse: 0.0918 - val_loss: 0.1943 - val_mse: 0.1943 - 2s/epoch - 8ms/step\n",
            "Epoch 15/30\n",
            "203/203 - 2s - loss: 0.0861 - mse: 0.0861 - val_loss: 0.1569 - val_mse: 0.1569 - 2s/epoch - 8ms/step\n",
            "Epoch 16/30\n",
            "203/203 - 2s - loss: 0.0793 - mse: 0.0793 - val_loss: 0.1662 - val_mse: 0.1662 - 2s/epoch - 8ms/step\n",
            "Epoch 17/30\n",
            "203/203 - 2s - loss: 0.0740 - mse: 0.0740 - val_loss: 0.1738 - val_mse: 0.1738 - 2s/epoch - 8ms/step\n",
            "Epoch 18/30\n",
            "203/203 - 2s - loss: 0.0700 - mse: 0.0700 - val_loss: 0.1690 - val_mse: 0.1690 - 2s/epoch - 8ms/step\n",
            "Epoch 19/30\n",
            "203/203 - 2s - loss: 0.0652 - mse: 0.0652 - val_loss: 0.1856 - val_mse: 0.1856 - 2s/epoch - 8ms/step\n",
            "Epoch 20/30\n",
            "203/203 - 2s - loss: 0.0641 - mse: 0.0641 - val_loss: 0.1724 - val_mse: 0.1724 - 2s/epoch - 8ms/step\n",
            "Epoch 21/30\n",
            "203/203 - 2s - loss: 0.0586 - mse: 0.0586 - val_loss: 0.1677 - val_mse: 0.1677 - 2s/epoch - 8ms/step\n",
            "Epoch 22/30\n",
            "203/203 - 2s - loss: 0.0590 - mse: 0.0590 - val_loss: 0.1876 - val_mse: 0.1876 - 2s/epoch - 8ms/step\n",
            "Epoch 23/30\n",
            "203/203 - 2s - loss: 0.0597 - mse: 0.0597 - val_loss: 0.1765 - val_mse: 0.1765 - 2s/epoch - 8ms/step\n",
            "Epoch 24/30\n",
            "203/203 - 2s - loss: 0.0549 - mse: 0.0549 - val_loss: 0.1861 - val_mse: 0.1861 - 2s/epoch - 8ms/step\n",
            "Epoch 25/30\n",
            "203/203 - 2s - loss: 0.0535 - mse: 0.0535 - val_loss: 0.1831 - val_mse: 0.1831 - 2s/epoch - 8ms/step\n",
            "Epoch 26/30\n",
            "203/203 - 2s - loss: 0.0522 - mse: 0.0522 - val_loss: 0.1811 - val_mse: 0.1811 - 2s/epoch - 8ms/step\n",
            "Epoch 27/30\n",
            "203/203 - 2s - loss: 0.0515 - mse: 0.0515 - val_loss: 0.1841 - val_mse: 0.1841 - 2s/epoch - 8ms/step\n",
            "Epoch 28/30\n",
            "203/203 - 2s - loss: 0.0478 - mse: 0.0478 - val_loss: 0.1975 - val_mse: 0.1975 - 2s/epoch - 8ms/step\n",
            "Epoch 29/30\n",
            "203/203 - 2s - loss: 0.0472 - mse: 0.0472 - val_loss: 0.1867 - val_mse: 0.1867 - 2s/epoch - 8ms/step\n",
            "Epoch 30/30\n",
            "203/203 - 2s - loss: 0.0536 - mse: 0.0536 - val_loss: 0.1864 - val_mse: 0.1864 - 2s/epoch - 8ms/step\n"
          ]
        }
      ]
    },
    {
      "cell_type": "code",
      "source": [
        "plot_model_results(history2, \"Model 2\")"
      ],
      "metadata": {
        "id": "1Kbkg2TMzlsN",
        "colab": {
          "base_uri": "https://localhost:8080/",
          "height": 719
        },
        "outputId": "79999dd5-fa99-4e24-ff22-53898b80a3ad"
      },
      "execution_count": 76,
      "outputs": [
        {
          "output_type": "error",
          "ename": "KeyError",
          "evalue": "ignored",
          "traceback": [
            "\u001b[0;31m---------------------------------------------------------------------------\u001b[0m",
            "\u001b[0;31mKeyError\u001b[0m                                  Traceback (most recent call last)",
            "\u001b[0;32m<ipython-input-76-a6eede5c2254>\u001b[0m in \u001b[0;36m<module>\u001b[0;34m\u001b[0m\n\u001b[0;32m----> 1\u001b[0;31m \u001b[0mplot_model_results\u001b[0m\u001b[0;34m(\u001b[0m\u001b[0mhistory2\u001b[0m\u001b[0;34m,\u001b[0m \u001b[0;34m\"Model 2\"\u001b[0m\u001b[0;34m)\u001b[0m\u001b[0;34m\u001b[0m\u001b[0;34m\u001b[0m\u001b[0m\n\u001b[0m",
            "\u001b[0;32m<ipython-input-70-2f153fc0c548>\u001b[0m in \u001b[0;36mplot_model_results\u001b[0;34m(model_history, plot_title)\u001b[0m\n\u001b[1;32m      1\u001b[0m \u001b[0;32mdef\u001b[0m \u001b[0mplot_model_results\u001b[0m\u001b[0;34m(\u001b[0m\u001b[0mmodel_history\u001b[0m\u001b[0;34m,\u001b[0m \u001b[0mplot_title\u001b[0m\u001b[0;34m)\u001b[0m\u001b[0;34m:\u001b[0m\u001b[0;34m\u001b[0m\u001b[0;34m\u001b[0m\u001b[0m\n\u001b[1;32m      2\u001b[0m   \u001b[0mfig\u001b[0m\u001b[0;34m,\u001b[0m \u001b[0;34m(\u001b[0m\u001b[0max1\u001b[0m\u001b[0;34m,\u001b[0m\u001b[0max2\u001b[0m\u001b[0;34m)\u001b[0m \u001b[0;34m=\u001b[0m \u001b[0mplt\u001b[0m\u001b[0;34m.\u001b[0m\u001b[0msubplots\u001b[0m\u001b[0;34m(\u001b[0m\u001b[0;36m2\u001b[0m\u001b[0;34m,\u001b[0m\u001b[0;36m1\u001b[0m\u001b[0;34m)\u001b[0m\u001b[0;34m\u001b[0m\u001b[0;34m\u001b[0m\u001b[0m\n\u001b[0;32m----> 3\u001b[0;31m   \u001b[0max1\u001b[0m\u001b[0;34m.\u001b[0m\u001b[0mplot\u001b[0m\u001b[0;34m(\u001b[0m\u001b[0mmodel_history\u001b[0m\u001b[0;34m.\u001b[0m\u001b[0mhistory\u001b[0m\u001b[0;34m[\u001b[0m\u001b[0;34m'accuracy'\u001b[0m\u001b[0;34m]\u001b[0m\u001b[0;34m)\u001b[0m\u001b[0;34m\u001b[0m\u001b[0;34m\u001b[0m\u001b[0m\n\u001b[0m\u001b[1;32m      4\u001b[0m   \u001b[0max1\u001b[0m\u001b[0;34m.\u001b[0m\u001b[0mplot\u001b[0m\u001b[0;34m(\u001b[0m\u001b[0mmodel_history\u001b[0m\u001b[0;34m.\u001b[0m\u001b[0mhistory\u001b[0m\u001b[0;34m[\u001b[0m\u001b[0;34m'val_accuracy'\u001b[0m\u001b[0;34m]\u001b[0m\u001b[0;34m)\u001b[0m\u001b[0;34m\u001b[0m\u001b[0;34m\u001b[0m\u001b[0m\n\u001b[1;32m      5\u001b[0m   \u001b[0max1\u001b[0m\u001b[0;34m.\u001b[0m\u001b[0mset_title\u001b[0m\u001b[0;34m(\u001b[0m\u001b[0mplot_title\u001b[0m\u001b[0;34m)\u001b[0m\u001b[0;34m\u001b[0m\u001b[0;34m\u001b[0m\u001b[0m\n",
            "\u001b[0;31mKeyError\u001b[0m: 'accuracy'"
          ]
        },
        {
          "output_type": "display_data",
          "data": {
            "text/plain": [
              "<Figure size 640x480 with 2 Axes>"
            ],
            "image/png": "[encoded data removed]"
          },
          "metadata": {}
        }
      ]
    },
    {
      "cell_type": "code",
      "source": [
        "best_model.summary()"
      ],
      "metadata": {
        "colab": {
          "base_uri": "https://localhost:8080/"
        },
        "id": "VF-GG9zdWxsG",
        "outputId": "62061c12-06e4-4b48-fac4-2c09b9ff6d5e"
      },
      "execution_count": 147,
      "outputs": [
        {
          "output_type": "stream",
          "name": "stdout",
          "text": [
            "Model: \"sequential\"\n",
            "_________________________________________________________________\n",
            " Layer (type)                Output Shape              Param #   \n",
            "=================================================================\n",
            " embedding_2 (Embedding)     (None, 22, 50)            859600    \n",
            "                                                                 \n",
            " lstm (LSTM)                 (None, 22, 416)           777088    \n",
            "                                                                 \n",
            " lstm_1 (LSTM)               (None, 22, 32)            57472     \n",
            "                                                                 \n",
            " lstm_2 (LSTM)               (None, 256)               295936    \n",
            "                                                                 \n",
            " dropout (Dropout)           (None, 256)               0         \n",
            "                                                                 \n",
            " dense (Dense)               (None, 6471)              1663047   \n",
            "                                                                 \n",
            " dense_1 (Dense)             (None, 128)               828416    \n",
            "                                                                 \n",
            " dense_2 (Dense)             (None, 1)                 129       \n",
            "                                                                 \n",
            "=================================================================\n",
            "Total params: 4,481,688\n",
            "Trainable params: 3,622,088\n",
            "Non-trainable params: 859,600\n",
            "_________________________________________________________________\n"
          ]
        }
      ]
    },
    {
      "cell_type": "code",
      "source": [
        "best_model.save('drive/MyDrive/Disaster_Tweet_Models/LTSM_Tuned.h5')"
      ],
      "metadata": {
        "id": "NoEo-K0QWXrp"
      },
      "execution_count": 148,
      "outputs": []
    },
    {
      "cell_type": "markdown",
      "source": [
        "**Model 3: GRU without tuning**"
      ],
      "metadata": {
        "id": "qEgzCInyzmWK"
      }
    },
    {
      "cell_type": "code",
      "source": [
        "model3 = Sequential()\n",
        "model3.add(embedding)\n",
        "model3.add(GRU(32))\n",
        "model3.add(Dense(1, activation='sigmoid'))\n",
        "optimzer=Adam(learning_rate=5e-5) #played around with different learning rates to determine optimal one \n",
        "model3.compile(loss='binary_crossentropy',optimizer=optimzer,metrics=['accuracy'])"
      ],
      "metadata": {
        "id": "Yd_53ybnhmuO"
      },
      "execution_count": 88,
      "outputs": []
    },
    {
      "cell_type": "code",
      "source": [
        "history3 =model3.fit(X_train,y_train,batch_size=32,epochs=30,validation_data=(X_test,y_test),verbose=2, callbacks=[callback]) #smaller batch sizes peform better"
      ],
      "metadata": {
        "colab": {
          "base_uri": "https://localhost:8080/"
        },
        "id": "ag9rInGq1TVH",
        "outputId": "bf10b400-7f7a-42c9-f7c2-daa57cb2c3a4"
      },
      "execution_count": 89,
      "outputs": [
        {
          "output_type": "stream",
          "name": "stdout",
          "text": [
            "Epoch 1/30\n",
            "203/203 - 3s - loss: 0.6912 - accuracy: 0.5698 - val_loss: 0.6893 - val_accuracy: 0.5718 - 3s/epoch - 13ms/step\n",
            "Epoch 2/30\n",
            "203/203 - 1s - loss: 0.6876 - accuracy: 0.5702 - val_loss: 0.6857 - val_accuracy: 0.5718 - 925ms/epoch - 5ms/step\n",
            "Epoch 3/30\n",
            "203/203 - 1s - loss: 0.6842 - accuracy: 0.5704 - val_loss: 0.6825 - val_accuracy: 0.5718 - 894ms/epoch - 4ms/step\n",
            "Epoch 4/30\n",
            "203/203 - 1s - loss: 0.6799 - accuracy: 0.5707 - val_loss: 0.6753 - val_accuracy: 0.5718 - 800ms/epoch - 4ms/step\n",
            "Epoch 5/30\n",
            "203/203 - 1s - loss: 0.6462 - accuracy: 0.5936 - val_loss: 0.5915 - val_accuracy: 0.6839 - 850ms/epoch - 4ms/step\n",
            "Epoch 6/30\n",
            "203/203 - 1s - loss: 0.5551 - accuracy: 0.7447 - val_loss: 0.5394 - val_accuracy: 0.7364 - 806ms/epoch - 4ms/step\n",
            "Epoch 7/30\n",
            "203/203 - 1s - loss: 0.5180 - accuracy: 0.7605 - val_loss: 0.5198 - val_accuracy: 0.7531 - 850ms/epoch - 4ms/step\n",
            "Epoch 8/30\n",
            "203/203 - 1s - loss: 0.4968 - accuracy: 0.7708 - val_loss: 0.5067 - val_accuracy: 0.7680 - 795ms/epoch - 4ms/step\n",
            "Epoch 9/30\n",
            "203/203 - 1s - loss: 0.4824 - accuracy: 0.7803 - val_loss: 0.4998 - val_accuracy: 0.7732 - 1s/epoch - 6ms/step\n",
            "Epoch 10/30\n",
            "203/203 - 1s - loss: 0.4737 - accuracy: 0.7837 - val_loss: 0.4939 - val_accuracy: 0.7793 - 980ms/epoch - 5ms/step\n",
            "Epoch 11/30\n",
            "203/203 - 1s - loss: 0.4677 - accuracy: 0.7909 - val_loss: 0.4909 - val_accuracy: 0.7811 - 818ms/epoch - 4ms/step\n",
            "Epoch 12/30\n",
            "203/203 - 1s - loss: 0.4638 - accuracy: 0.7937 - val_loss: 0.4877 - val_accuracy: 0.7872 - 806ms/epoch - 4ms/step\n",
            "Epoch 13/30\n",
            "203/203 - 1s - loss: 0.4607 - accuracy: 0.7937 - val_loss: 0.4861 - val_accuracy: 0.7802 - 881ms/epoch - 4ms/step\n",
            "Epoch 14/30\n",
            "203/203 - 1s - loss: 0.4585 - accuracy: 0.7993 - val_loss: 0.4832 - val_accuracy: 0.7837 - 774ms/epoch - 4ms/step\n",
            "Epoch 15/30\n",
            "203/203 - 1s - loss: 0.4563 - accuracy: 0.7997 - val_loss: 0.4818 - val_accuracy: 0.7855 - 819ms/epoch - 4ms/step\n",
            "Epoch 16/30\n",
            "203/203 - 1s - loss: 0.4545 - accuracy: 0.7996 - val_loss: 0.4794 - val_accuracy: 0.7863 - 840ms/epoch - 4ms/step\n",
            "Epoch 17/30\n",
            "203/203 - 1s - loss: 0.4527 - accuracy: 0.8003 - val_loss: 0.4783 - val_accuracy: 0.7837 - 883ms/epoch - 4ms/step\n",
            "Epoch 18/30\n",
            "203/203 - 1s - loss: 0.4512 - accuracy: 0.8027 - val_loss: 0.4777 - val_accuracy: 0.7846 - 862ms/epoch - 4ms/step\n",
            "Epoch 19/30\n",
            "203/203 - 1s - loss: 0.4493 - accuracy: 0.8045 - val_loss: 0.4784 - val_accuracy: 0.7872 - 797ms/epoch - 4ms/step\n",
            "Epoch 20/30\n",
            "203/203 - 1s - loss: 0.4484 - accuracy: 0.8047 - val_loss: 0.4755 - val_accuracy: 0.7828 - 792ms/epoch - 4ms/step\n",
            "Epoch 21/30\n",
            "203/203 - 1s - loss: 0.4474 - accuracy: 0.8051 - val_loss: 0.4749 - val_accuracy: 0.7863 - 800ms/epoch - 4ms/step\n",
            "Epoch 22/30\n",
            "203/203 - 1s - loss: 0.4463 - accuracy: 0.8044 - val_loss: 0.4737 - val_accuracy: 0.7820 - 782ms/epoch - 4ms/step\n",
            "Epoch 23/30\n",
            "203/203 - 1s - loss: 0.4449 - accuracy: 0.8039 - val_loss: 0.4733 - val_accuracy: 0.7811 - 777ms/epoch - 4ms/step\n",
            "Epoch 24/30\n",
            "203/203 - 1s - loss: 0.4441 - accuracy: 0.8053 - val_loss: 0.4735 - val_accuracy: 0.7890 - 831ms/epoch - 4ms/step\n",
            "Epoch 25/30\n",
            "203/203 - 1s - loss: 0.4430 - accuracy: 0.8059 - val_loss: 0.4724 - val_accuracy: 0.7890 - 839ms/epoch - 4ms/step\n",
            "Epoch 26/30\n",
            "203/203 - 1s - loss: 0.4424 - accuracy: 0.8070 - val_loss: 0.4721 - val_accuracy: 0.7881 - 848ms/epoch - 4ms/step\n",
            "Epoch 27/30\n",
            "203/203 - 1s - loss: 0.4413 - accuracy: 0.8048 - val_loss: 0.4715 - val_accuracy: 0.7872 - 887ms/epoch - 4ms/step\n",
            "Epoch 28/30\n",
            "203/203 - 1s - loss: 0.4401 - accuracy: 0.8062 - val_loss: 0.4711 - val_accuracy: 0.7837 - 841ms/epoch - 4ms/step\n",
            "Epoch 29/30\n",
            "203/203 - 1s - loss: 0.4391 - accuracy: 0.8082 - val_loss: 0.4711 - val_accuracy: 0.7855 - 793ms/epoch - 4ms/step\n",
            "Epoch 30/30\n",
            "203/203 - 1s - loss: 0.4382 - accuracy: 0.8090 - val_loss: 0.4704 - val_accuracy: 0.7820 - 779ms/epoch - 4ms/step\n"
          ]
        }
      ]
    },
    {
      "cell_type": "code",
      "source": [
        "plot_model_results(history3, \"Model 3\")"
      ],
      "metadata": {
        "colab": {
          "base_uri": "https://localhost:8080/",
          "height": 472
        },
        "id": "TfSMLqyOUcSV",
        "outputId": "32dea1ab-3366-4eb3-9514-c509f7b390cb"
      },
      "execution_count": 90,
      "outputs": [
        {
          "output_type": "display_data",
          "data": {
            "text/plain": [
              "<Figure size 640x480 with 2 Axes>"
            ],
            "image/png": "[encoded data removed]"
          },
          "metadata": {}
        }
      ]
    },
    {
      "cell_type": "code",
      "source": [
        "model3.save('drive/MyDrive/Disaster_Tweet_Models/GRU_Untuned.h5')\n",
        "# model3 = load_model_from_hdf5('drive/MyDrive/Disaster_Tweet_Models/GRU_Untuned.h5')"
      ],
      "metadata": {
        "id": "Qop74DHc1gW6"
      },
      "execution_count": 91,
      "outputs": []
    },
    {
      "cell_type": "markdown",
      "source": [
        "We should defintely perform hyperparameter tuning with out model. \n",
        "\n",
        "1.   List item\n",
        "2.   List item\n",
        "\n"
      ],
      "metadata": {
        "id": "lH7DrF9Vn51O"
      }
    },
    {
      "cell_type": "markdown",
      "source": [
        "# Metrics"
      ],
      "metadata": {
        "id": "aqKOHPbK34KO"
      }
    },
    {
      "cell_type": "code",
      "source": [
        "y_pred=model.predict(test_sub)\n",
        "y_pred=np.round(y_pred).astype(int).reshape(3263)\n",
        "sub=pd.DataFrame({'id':submission['id'].values.tolist(),'target':y_pred})\n",
        "sub.to_csv('submission_disaster1.csv',index=False)"
      ],
      "metadata": {
        "id": "E_01oJGVQk3e",
        "colab": {
          "base_uri": "https://localhost:8080/"
        },
        "outputId": "6907733a-2552-44ec-80a8-95b6d8ac6d17"
      },
      "execution_count": 65,
      "outputs": [
        {
          "output_type": "stream",
          "name": "stdout",
          "text": [
            "102/102 [==============================] - 1s 9ms/step\n"
          ]
        }
      ]
    },
    {
      "cell_type": "code",
      "source": [
        "y_pred2=best_model.predict(test_sub)\n",
        "y_pred2=np.round(y_pred2).astype(int).reshape(3263)\n",
        "sub=pd.DataFrame({'id':submission['id'].values.tolist(),'target':y_pred2})\n",
        "sub.to_csv('submission_disaster2.csv',index=False)"
      ],
      "metadata": {
        "colab": {
          "base_uri": "https://localhost:8080/"
        },
        "id": "7qcDqsuxVjiB",
        "outputId": "23c8ec4d-232a-4779-a747-13722b8c281c"
      },
      "execution_count": 151,
      "outputs": [
        {
          "output_type": "stream",
          "name": "stdout",
          "text": [
            "102/102 [==============================] - 0s 4ms/step\n"
          ]
        }
      ]
    },
    {
      "cell_type": "code",
      "source": [
        "y_pred3=model3.predict(test_sub)\n",
        "y_pred3=np.round(y_pred3).astype(int).reshape(3263)\n",
        "sub=pd.DataFrame({'id':submission['id'].values.tolist(),'target':y_pred3})\n",
        "sub.to_csv('submission_disaster3.csv',index=False)"
      ],
      "metadata": {
        "colab": {
          "base_uri": "https://localhost:8080/"
        },
        "id": "7NRWkLrOVodk",
        "outputId": "5d595885-73c2-4276-b539-573fd492dde3"
      },
      "execution_count": 153,
      "outputs": [
        {
          "output_type": "stream",
          "name": "stdout",
          "text": [
            "102/102 [==============================] - 0s 2ms/step\n"
          ]
        }
      ]
    },
    {
      "cell_type": "markdown",
      "source": [
        "### Metrics/ Conclusion"
      ],
      "metadata": {
        "id": "HAwS0yp6c7GA"
      }
    },
    {
      "cell_type": "markdown",
      "source": [
        "![image.png](data:image/png;base64,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)"
      ],
      "metadata": {
        "id": "OoQ6ISDqc-Wz"
      }
    },
    {
      "cell_type": "markdown",
      "source": [
        "These are the accuracy scores for models 3,2, and 1 respectively. They hyperparameter tuning appeared to improve model performance and the Gated Recurrent Network unit model surprisingly outperformed the other two models. I had read that LTSM generally outperformed GRU but the hyperparameter tuning done was very basic wihtout much account for how I implmeneted it. It goes to show that more shallow and simplistic models often times outperform more complex ones. "
      ],
      "metadata": {
        "id": "DkJvnStwdAJb"
      }
    },
    {
      "cell_type": "markdown",
      "source": [
        "Note: I ran into some issues with separating the train and test data when building the corpus but will resolve that at a later date. There were indexing issues when trying to add the inputs of the test model into my 3 models. I understand that the model will generalize more poorly on new data since I combined the data that was supposed to be new data into my preprocessing and formation of glove."
      ],
      "metadata": {
        "id": "N9mFUNpRxxET"
      }
    },
    {
      "cell_type": "markdown",
      "source": [
        "References: \n",
        "\n",
        "\n",
        "\n",
        "\n",
        "* https://medium.com/analytics-vidhya/hypertuning-a-lstm-with-keras-tuner-to-forecast-solar-irradiance-7da7577e96eb\n",
        "*   https://www.kaggle.com/code/shahules/basic-eda-cleaning-and-glove\n",
        "\n",
        "\n",
        "\n"
      ],
      "metadata": {
        "id": "cDHu1wUg2C0u"
      }
    }
  ]
}